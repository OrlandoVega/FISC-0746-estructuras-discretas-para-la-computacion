{
  "nbformat": 4,
  "nbformat_minor": 0,
  "metadata": {
    "colab": {
      "name": "Copia de Python01.ipynb",
      "version": "0.3.2",
      "provenance": [],
      "include_colab_link": true
    },
    "kernelspec": {
      "name": "python3",
      "display_name": "Python 3"
    }
  },
  "cells": [
    {
      "cell_type": "markdown",
      "metadata": {
        "id": "view-in-github",
        "colab_type": "text"
      },
      "source": [
        "<a href=\"https://colab.research.google.com/github/OrlandoVega/FISC-0746-estructuras-discretas-para-la-computacion/blob/master/Copia_de_Python01.ipynb\" target=\"_parent\"><img src=\"https://colab.research.google.com/assets/colab-badge.svg\" alt=\"Open In Colab\"/></a>"
      ]
    },
    {
      "metadata": {
        "id": "_gmZI7D4giEZ",
        "colab_type": "text"
      },
      "cell_type": "markdown",
      "source": [
        "#UNIVERSIDAD TECNOLÓGICA DE PANAMÁ\n",
        "##FACULTAD DE INGENIERÍA DE SISTEMAS COMPUTACIONALES\n",
        "##DEPARTAMENTO DE COMPUTACIÓN Y SIMULACIÓN DE SISTEMAS\n",
        "\n",
        "##ESTRUCTURAS DISCRETAS PARA LA COMPUTACIÓN\n",
        "\n",
        "## Profesor: Ezequiel Aguilar González\n",
        "\n"
      ]
    },
    {
      "metadata": {
        "id": "VBhLRiBJyi1B",
        "colab_type": "text"
      },
      "cell_type": "markdown",
      "source": [
        "## Inicializar un conjunto"
      ]
    },
    {
      "metadata": {
        "id": "aOSvH0zmyobi",
        "colab_type": "code",
        "colab": {
          "base_uri": "https://localhost:8080/",
          "height": 34
        },
        "outputId": "90b96b6f-c4aa-493b-fc71-e4bf099cd0b7"
      },
      "cell_type": "code",
      "source": [
        "vacioSet = set()\n",
        "vacioSet"
      ],
      "execution_count": 3,
      "outputs": [
        {
          "output_type": "execute_result",
          "data": {
            "text/plain": [
              "set()"
            ]
          },
          "metadata": {
            "tags": []
          },
          "execution_count": 3
        }
      ]
    },
    {
      "metadata": {
        "id": "qlQxp4LFywQ3",
        "colab_type": "text"
      },
      "cell_type": "markdown",
      "source": [
        "## Inicializar con valores\n"
      ]
    },
    {
      "metadata": {
        "id": "wgcDg3_4y01T",
        "colab_type": "code",
        "colab": {}
      },
      "cell_type": "code",
      "source": [
        "dataScientist = set(['Python', 'R', 'SQL', 'Git', 'Tableau', 'SAS'])\n",
        "dataEngineer = set(['Python', 'Java', 'Scala', 'Git', 'SQL', 'Hadoop'])"
      ],
      "execution_count": 0,
      "outputs": []
    },
    {
      "metadata": {
        "id": "wQh9ePlKy7ch",
        "colab_type": "text"
      },
      "cell_type": "markdown",
      "source": [
        "## Asignación: Imprimir los valores de dataScientist y dataEngineer"
      ]
    },
    {
      "metadata": {
        "id": "IIBmCwLHzEWo",
        "colab_type": "code",
        "colab": {
          "base_uri": "https://localhost:8080/",
          "height": 34
        },
        "outputId": "b7a17f17-3f83-406c-c1fa-48bcc2458fa4"
      },
      "cell_type": "code",
      "source": [
        "dataScientist"
      ],
      "execution_count": 9,
      "outputs": [
        {
          "output_type": "execute_result",
          "data": {
            "text/plain": [
              "{'Git', 'Python', 'R', 'SAS', 'SQL', 'Tableau'}"
            ]
          },
          "metadata": {
            "tags": []
          },
          "execution_count": 9
        }
      ]
    },
    {
      "metadata": {
        "id": "0n6c9h8IzGWv",
        "colab_type": "code",
        "colab": {}
      },
      "cell_type": "code",
      "source": [
        ""
      ],
      "execution_count": 0,
      "outputs": []
    },
    {
      "metadata": {
        "id": "ssjqd7GFzEuw",
        "colab_type": "text"
      },
      "cell_type": "markdown",
      "source": [
        "## Otra forma de inicialización\n"
      ]
    },
    {
      "metadata": {
        "id": "tH_7F-aOzR5i",
        "colab_type": "code",
        "colab": {}
      },
      "cell_type": "code",
      "source": [
        "dataScientist = {'Python', 'R', 'SQL', 'Git', 'Tableau', 'SAS'}\n",
        "dataEngineer = {'Python', 'Java', 'Scala', 'Git', 'SQL', 'Hadoop'}"
      ],
      "execution_count": 0,
      "outputs": []
    },
    {
      "metadata": {
        "id": "YOpWKoxUzWAF",
        "colab_type": "text"
      },
      "cell_type": "markdown",
      "source": [
        "## Agregar o remover elementos"
      ]
    },
    {
      "metadata": {
        "id": "2G7pbZGKzgZS",
        "colab_type": "code",
        "colab": {}
      },
      "cell_type": "code",
      "source": [
        "graphicDesigner = {'InDesign', 'Photoshop', 'Acrobat', 'Premiere', 'Bridge'}"
      ],
      "execution_count": 0,
      "outputs": []
    },
    {
      "metadata": {
        "id": "MHBbN1VpOVUb",
        "colab_type": "code",
        "colab": {}
      },
      "cell_type": "code",
      "source": [
        ""
      ],
      "execution_count": 0,
      "outputs": []
    },
    {
      "metadata": {
        "id": "3sf10J5NOUKE",
        "colab_type": "text"
      },
      "cell_type": "markdown",
      "source": [
        ""
      ]
    },
    {
      "metadata": {
        "id": "OCmdBFWYOT0E",
        "colab_type": "text"
      },
      "cell_type": "markdown",
      "source": [
        ""
      ]
    },
    {
      "metadata": {
        "id": "J4T1l18rzmfz",
        "colab_type": "text"
      },
      "cell_type": "markdown",
      "source": [
        "### Agregar valores\n"
      ]
    },
    {
      "metadata": {
        "id": "qLukEDnyzj1g",
        "colab_type": "code",
        "colab": {}
      },
      "cell_type": "code",
      "source": [
        "graphicDesigner.add('Illustrator')"
      ],
      "execution_count": 0,
      "outputs": []
    },
    {
      "metadata": {
        "id": "UIRT4OAgzvof",
        "colab_type": "code",
        "colab": {}
      },
      "cell_type": "code",
      "source": [
        " graphicDesigner.remove('Illustrator')"
      ],
      "execution_count": 0,
      "outputs": []
    },
    {
      "metadata": {
        "id": "KShWz0niz2RK",
        "colab_type": "code",
        "colab": {}
      },
      "cell_type": "code",
      "source": [
        "graphicDesigner.clear('Illustrator')"
      ],
      "execution_count": 0,
      "outputs": []
    },
    {
      "metadata": {
        "id": "EcVFdyrVPcEL",
        "colab_type": "text"
      },
      "cell_type": "markdown",
      "source": [
        "**ELIMIRAR VALORES**"
      ]
    },
    {
      "metadata": {
        "id": "LP3SUnSjPx8w",
        "colab_type": "code",
        "colab": {}
      },
      "cell_type": "code",
      "source": [
        ""
      ],
      "execution_count": 0,
      "outputs": []
    },
    {
      "metadata": {
        "id": "caENBLRiz6Bl",
        "colab_type": "code",
        "colab": {
          "base_uri": "https://localhost:8080/",
          "height": 119
        },
        "outputId": "522b7f56-6ae7-4d0f-dbc1-e5b5d850aa56"
      },
      "cell_type": "code",
      "source": [
        "dataScientist = {'R', 'Python', 'SQL', 'Git', 'Tableau', 'SAS'}\n",
        "\n",
        "for skill in dataScientist:\n",
        "    print(skill)"
      ],
      "execution_count": 18,
      "outputs": [
        {
          "output_type": "stream",
          "text": [
            "Tableau\n",
            "R\n",
            "Python\n",
            "SAS\n",
            "SQL\n",
            "Git\n"
          ],
          "name": "stdout"
        }
      ]
    },
    {
      "metadata": {
        "id": "G8rNKN4dz7WX",
        "colab_type": "code",
        "outputId": "ca731b9c-a6ec-4e2b-b273-6c6c60735c18",
        "colab": {
          "base_uri": "https://localhost:8080/",
          "height": 34
        }
      },
      "cell_type": "code",
      "source": [
        "sorted(dataScientist, reverse = True)"
      ],
      "execution_count": 20,
      "outputs": [
        {
          "output_type": "execute_result",
          "data": {
            "text/plain": [
              "['Tableau', 'SQL', 'SAS', 'R', 'Python', 'Git']"
            ]
          },
          "metadata": {
            "tags": []
          },
          "execution_count": 20
        }
      ]
    },
    {
      "metadata": {
        "id": "kF1UCX4J0HqH",
        "colab_type": "code",
        "colab": {}
      },
      "cell_type": "code",
      "source": [
        "dataScientist = set(['Python', 'R', 'SQL', 'Git', 'Tableau', 'SAS'])\n",
        "dataEngineer = set(['Python', 'Java', 'Scala', 'Git', 'SQL', 'Hadoop'])"
      ],
      "execution_count": 0,
      "outputs": []
    },
    {
      "metadata": {
        "id": "4WSpEtkR0Pzh",
        "colab_type": "code",
        "outputId": "de9c4040-1c7b-46f1-fcf0-d257d42450ca",
        "colab": {
          "base_uri": "https://localhost:8080/",
          "height": 34
        }
      },
      "cell_type": "code",
      "source": [
        "\n",
        "dataEngineer.union(dataScientist)\n",
        "\n"
      ],
      "execution_count": 23,
      "outputs": [
        {
          "output_type": "execute_result",
          "data": {
            "text/plain": [
              "{'Git', 'Hadoop', 'Java', 'Python', 'R', 'SAS', 'SQL', 'Scala', 'Tableau'}"
            ]
          },
          "metadata": {
            "tags": []
          },
          "execution_count": 23
        }
      ]
    },
    {
      "metadata": {
        "id": "NziqLMQHRTtz",
        "colab_type": "code",
        "colab": {
          "base_uri": "https://localhost:8080/",
          "height": 34
        },
        "outputId": "19970c4b-f26e-406e-f370-944f554580e3"
      },
      "cell_type": "code",
      "source": [
        "dataScientist | dataEngineer"
      ],
      "execution_count": 24,
      "outputs": [
        {
          "output_type": "execute_result",
          "data": {
            "text/plain": [
              "{'Git', 'Hadoop', 'Java', 'Python', 'R', 'SAS', 'SQL', 'Scala', 'Tableau'}"
            ]
          },
          "metadata": {
            "tags": []
          },
          "execution_count": 24
        }
      ]
    },
    {
      "metadata": {
        "id": "c0RnAO1CSPaE",
        "colab_type": "text"
      },
      "cell_type": "markdown",
      "source": [
        "### #########Interseccion\n"
      ]
    },
    {
      "metadata": {
        "id": "0-lwL_6m0XTw",
        "colab_type": "code",
        "outputId": "87e73cd9-1429-4738-ef56-95cb81d7b82b",
        "colab": {
          "base_uri": "https://localhost:8080/",
          "height": 34
        }
      },
      "cell_type": "code",
      "source": [
        "# Intersection operation\n",
        "dataScientist.intersection(dataEngineer)\n",
        "\n",
        "# Equivalent Result\n",
        "dataScientist & dataEngineer"
      ],
      "execution_count": 25,
      "outputs": [
        {
          "output_type": "execute_result",
          "data": {
            "text/plain": [
              "{'Git', 'Python', 'SQL'}"
            ]
          },
          "metadata": {
            "tags": []
          },
          "execution_count": 25
        }
      ]
    },
    {
      "metadata": {
        "id": "Eiwkz2eq0c2_",
        "colab_type": "code",
        "outputId": "ed16cee5-6acb-449b-cc83-26037aac261e",
        "colab": {
          "base_uri": "https://localhost:8080/",
          "height": 36
        }
      },
      "cell_type": "code",
      "source": [
        "# Initialize a set\n",
        "graphicDesigner = {'Illustrator', 'InDesign', 'Photoshop'}\n",
        "\n",
        "# These sets have elements in common so it would return False\n",
        "dataScientist.isdisjoint(dataEngineer)\n",
        "\n",
        "# These sets have no elements in common so it would return True\n",
        "dataScientist.isdisjoint(graphicDesigner)"
      ],
      "execution_count": 0,
      "outputs": [
        {
          "output_type": "execute_result",
          "data": {
            "text/plain": [
              "True"
            ]
          },
          "metadata": {
            "tags": []
          },
          "execution_count": 13
        }
      ]
    },
    {
      "metadata": {
        "id": "7k6wG3pnTPfr",
        "colab_type": "text"
      },
      "cell_type": "markdown",
      "source": [
        "#Diferencia"
      ]
    },
    {
      "metadata": {
        "id": "yYEQU6m1TPIX",
        "colab_type": "code",
        "colab": {}
      },
      "cell_type": "code",
      "source": [
        ""
      ],
      "execution_count": 0,
      "outputs": []
    },
    {
      "metadata": {
        "id": "tpkuheqT0ghB",
        "colab_type": "code",
        "outputId": "9bbbe1d9-6c2b-402d-bdc7-4ab98344cf1c",
        "colab": {
          "base_uri": "https://localhost:8080/",
          "height": 34
        }
      },
      "cell_type": "code",
      "source": [
        "# Difference Operation\n",
        "dataScientist.difference(dataEngineer)\n",
        "\n",
        "# Equivalent Result\n",
        "dataScientist - dataEngineer"
      ],
      "execution_count": 30,
      "outputs": [
        {
          "output_type": "execute_result",
          "data": {
            "text/plain": [
              "{'R', 'SAS', 'Tableau'}"
            ]
          },
          "metadata": {
            "tags": []
          },
          "execution_count": 30
        }
      ]
    },
    {
      "metadata": {
        "id": "EhweEtDs0jzD",
        "colab_type": "code",
        "outputId": "3c41e557-4946-41a4-8782-8bc58e404508",
        "colab": {
          "base_uri": "https://localhost:8080/",
          "height": 36
        }
      },
      "cell_type": "code",
      "source": [
        "# Symmetric Difference Operation\n",
        "dataScientist.symmetric_difference(dataEngineer)\n",
        "\n",
        "# Equivalent Result\n",
        "dataScientist ^ dataEngineer"
      ],
      "execution_count": 0,
      "outputs": [
        {
          "output_type": "execute_result",
          "data": {
            "text/plain": [
              "{'Hadoop', 'Java', 'R', 'SAS', 'Scala', 'Tableau'}"
            ]
          },
          "metadata": {
            "tags": []
          },
          "execution_count": 15
        }
      ]
    },
    {
      "metadata": {
        "id": "qxyT_HvL0pvA",
        "colab_type": "code",
        "colab": {}
      },
      "cell_type": "code",
      "source": [
        "# Initialize a list\n",
        "possibleList = ['Python', 'R', 'SQL', 'Git', 'Tableau', 'SAS', 'Java', 'Spark', 'Scala','God']\n",
        "\n"
      ],
      "execution_count": 0,
      "outputs": []
    },
    {
      "metadata": {
        "id": "irdbzyPqUtOk",
        "colab_type": "code",
        "colab": {
          "base_uri": "https://localhost:8080/",
          "height": 34
        },
        "outputId": "d23532df-36ed-479e-d45c-9d85435415da"
      },
      "cell_type": "code",
      "source": [
        "# Membership test\n",
        "'God' in possibleList"
      ],
      "execution_count": 44,
      "outputs": [
        {
          "output_type": "execute_result",
          "data": {
            "text/plain": [
              "True"
            ]
          },
          "metadata": {
            "tags": []
          },
          "execution_count": 44
        }
      ]
    },
    {
      "metadata": {
        "id": "bx95g_c00vOS",
        "colab_type": "code",
        "colab": {}
      },
      "cell_type": "code",
      "source": [
        "possibleSkills = {'Python', 'R', 'SQL', 'Git', 'Tableau', 'SAS'}\n",
        "mySkills = {'Python', 'R'}"
      ],
      "execution_count": 0,
      "outputs": []
    },
    {
      "metadata": {
        "id": "ctq4ea6q0xCV",
        "colab_type": "code",
        "colab": {}
      },
      "cell_type": "code",
      "source": [
        "mySkills.issubset(possibleSkills)"
      ],
      "execution_count": 0,
      "outputs": []
    },
    {
      "metadata": {
        "id": "AGy0vFAz01Ne",
        "colab_type": "text"
      },
      "cell_type": "markdown",
      "source": [
        "##Tarea\n",
        "\n",
        "\n",
        "\n",
        "1.   Crear tres grupos (ejem: Casas de Game of Thrones). Maximo 4 elementos\n",
        "2.   Aplicar operaciones de inteseccion, union, diferencia, pertenencia.\n",
        "3.   Enviar al correo ezequiel.aguilar@utp.ac.pa\n",
        "\n"
      ]
    },
    {
      "metadata": {
        "id": "FWZvpQhKXtCk",
        "colab_type": "code",
        "colab": {}
      },
      "cell_type": "code",
      "source": [
        " pokemons= set(['torchip','pikachu','greninja','celebi'])\n",
        "pokemondeashe= set(['pikachu','greninja','charmeleon','squirtle' ])\n",
        "pokemondemizty=set (['psyduck','starmie','togepi','seel'])"
      ],
      "execution_count": 0,
      "outputs": []
    },
    {
      "metadata": {
        "id": "T-YyrZmpVViU",
        "colab_type": "code",
        "colab": {}
      },
      "cell_type": "code",
      "source": [
        "pokemons={'torchip','pikachu','greninja','celebi'}\n",
        "pokemondeashe={'pikachu','greninja','charmeleon','squirtle'}\n",
        "pokemondemizty={'psyduck','starmie','togepi','seel'}"
      ],
      "execution_count": 0,
      "outputs": []
    },
    {
      "metadata": {
        "id": "PY-W0no_XY1a",
        "colab_type": "text"
      },
      "cell_type": "markdown",
      "source": [
        "###Interseccion"
      ]
    },
    {
      "metadata": {
        "id": "XSpzmbVcXdCA",
        "colab_type": "code",
        "colab": {
          "base_uri": "https://localhost:8080/",
          "height": 34
        },
        "outputId": "e29afb9c-5751-4674-bdf8-096036566af7"
      },
      "cell_type": "code",
      "source": [
        "pokemons.intersection(pokemondeashe)"
      ],
      "execution_count": 53,
      "outputs": [
        {
          "output_type": "execute_result",
          "data": {
            "text/plain": [
              "{'greninja', 'pikachu'}"
            ]
          },
          "metadata": {
            "tags": []
          },
          "execution_count": 53
        }
      ]
    },
    {
      "metadata": {
        "id": "Snjcc7FyZYZd",
        "colab_type": "text"
      },
      "cell_type": "markdown",
      "source": [
        "###Unìon"
      ]
    },
    {
      "metadata": {
        "id": "rAuUHMEeZbxx",
        "colab_type": "code",
        "colab": {
          "base_uri": "https://localhost:8080/",
          "height": 153
        },
        "outputId": "604fc4f7-0377-457f-fd23-07f8ccf25408"
      },
      "cell_type": "code",
      "source": [
        "pokemons.union(pokemondemizty)"
      ],
      "execution_count": 55,
      "outputs": [
        {
          "output_type": "execute_result",
          "data": {
            "text/plain": [
              "{'celebi',\n",
              " 'greninja',\n",
              " 'pikachu',\n",
              " 'psyduck',\n",
              " 'seel',\n",
              " 'starmie',\n",
              " 'togepi',\n",
              " 'torchip'}"
            ]
          },
          "metadata": {
            "tags": []
          },
          "execution_count": 55
        }
      ]
    },
    {
      "metadata": {
        "id": "_SoKLpNMaDjb",
        "colab_type": "text"
      },
      "cell_type": "markdown",
      "source": [
        "###diferencia"
      ]
    },
    {
      "metadata": {
        "id": "DPBJ47XpaIbR",
        "colab_type": "code",
        "colab": {
          "base_uri": "https://localhost:8080/",
          "height": 34
        },
        "outputId": "da5b8598-ffb5-497a-8204-378b1e84899c"
      },
      "cell_type": "code",
      "source": [
        "pokemons.difference(pokemondeashe)"
      ],
      "execution_count": 56,
      "outputs": [
        {
          "output_type": "execute_result",
          "data": {
            "text/plain": [
              "{'celebi', 'torchip'}"
            ]
          },
          "metadata": {
            "tags": []
          },
          "execution_count": 56
        }
      ]
    },
    {
      "metadata": {
        "id": "bTRomKIBaSHN",
        "colab_type": "text"
      },
      "cell_type": "markdown",
      "source": [
        "###pertenencia"
      ]
    },
    {
      "metadata": {
        "id": "3RdkSOk6aUzB",
        "colab_type": "code",
        "colab": {
          "base_uri": "https://localhost:8080/",
          "height": 153
        },
        "outputId": "8499c1a4-8852-4203-8adc-1af09208fcb8"
      },
      "cell_type": "code",
      "source": [
        "pokemons.symmetric_difference(pokemondemizty)"
      ],
      "execution_count": 58,
      "outputs": [
        {
          "output_type": "execute_result",
          "data": {
            "text/plain": [
              "{'celebi',\n",
              " 'greninja',\n",
              " 'pikachu',\n",
              " 'psyduck',\n",
              " 'seel',\n",
              " 'starmie',\n",
              " 'togepi',\n",
              " 'torchip'}"
            ]
          },
          "metadata": {
            "tags": []
          },
          "execution_count": 58
        }
      ]
    },
    {
      "metadata": {
        "id": "yYaremQjXXsg",
        "colab_type": "code",
        "colab": {}
      },
      "cell_type": "code",
      "source": [
        ""
      ],
      "execution_count": 0,
      "outputs": []
    }
  ]
}