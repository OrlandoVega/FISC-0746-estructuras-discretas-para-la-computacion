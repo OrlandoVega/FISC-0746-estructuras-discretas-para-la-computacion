{
  "nbformat": 4,
  "nbformat_minor": 0,
  "metadata": {
    "colab": {
      "name": "python03.ipynb",
      "version": "0.3.2",
      "provenance": []
    },
    "kernelspec": {
      "name": "python3",
      "display_name": "Python 3"
    }
  },
  "cells": [
    {
      "metadata": {
        "id": "L1KuJjRuMUQf",
        "colab_type": "text"
      },
      "cell_type": "markdown",
      "source": [
        "##Estructura Discreta\n",
        "##Orlando Vega\n"
      ]
    },
    {
      "metadata": {
        "id": "eWcRQGyWMDw8",
        "colab_type": "code",
        "outputId": "4478efe7-8bf6-4275-d0c7-b356cde6b7af",
        "colab": {
          "base_uri": "https://localhost:8080/",
          "height": 34
        }
      },
      "cell_type": "code",
      "source": [
        " x = 12\n",
        " if x >10:\n",
        "    print(\"Hello\")"
      ],
      "execution_count": 0,
      "outputs": [
        {
          "output_type": "stream",
          "text": [
            "Hello\n"
          ],
          "name": "stdout"
        }
      ]
    },
    {
      "metadata": {
        "id": "RfrU5tG9N_fY",
        "colab_type": "code",
        "outputId": "789bb5f7-8813-4fdd-d044-11018fedde35",
        "colab": {
          "base_uri": "https://localhost:8080/",
          "height": 34
        }
      },
      "cell_type": "code",
      "source": [
        "x = 12\n",
        "if x >10:\n",
        "    print(\"HELLO\")\n",
        "else:\n",
        "      print(\"WORLD\")"
      ],
      "execution_count": 0,
      "outputs": [
        {
          "output_type": "stream",
          "text": [
            "WORLD\n"
          ],
          "name": "stdout"
        }
      ]
    },
    {
      "metadata": {
        "id": "wR1VlcU1Ob6G",
        "colab_type": "code",
        "outputId": "614b1311-188e-48c5-db3f-9ca1afb68b2b",
        "colab": {
          "base_uri": "https://localhost:8080/",
          "height": 34
        }
      },
      "cell_type": "code",
      "source": [
        "x= 10\n",
        "y= 12\n",
        "if x > y:\n",
        "  print(\"x>y\")\n",
        "elif x < y:\n",
        "  print(\"X<Y\")\n",
        "else:\n",
        "  print(\"X=Y\")"
      ],
      "execution_count": 0,
      "outputs": [
        {
          "output_type": "stream",
          "text": [
            "X<Y\n"
          ],
          "name": "stdout"
        }
      ]
    },
    {
      "metadata": {
        "id": "0NhlQCR8Ou0G",
        "colab_type": "code",
        "outputId": "1c011a96-f0f2-4f8d-a8fa-c67675127689",
        "colab": {
          "base_uri": "https://localhost:8080/",
          "height": 51
        }
      },
      "cell_type": "code",
      "source": [
        "#if anidado\n",
        "x = 0\n",
        "y = 12\n",
        "if x>y:\n",
        "  print(\"X>Y\")\n",
        "elif x<y:\n",
        "  print(\"X<Y\")\n",
        "  if x==10:\n",
        "    print(\"X=10\")\n",
        "  else:\n",
        "    print(\"invalid\")\n",
        "else:\n",
        "  print(\"X=Y\")"
      ],
      "execution_count": 0,
      "outputs": [
        {
          "output_type": "stream",
          "text": [
            "X<Y\n",
            "invalid\n"
          ],
          "name": "stdout"
        }
      ]
    },
    {
      "metadata": {
        "id": "k5e2x8C2PntV",
        "colab_type": "code",
        "outputId": "89ade978-bc2d-4888-d5b9-1aa3fcea5f41",
        "colab": {
          "base_uri": "https://localhost:8080/",
          "height": 153
        }
      },
      "cell_type": "code",
      "source": [
        "i=1\n",
        "for i in range(2,10):\n",
        "  print(i)"
      ],
      "execution_count": 0,
      "outputs": [
        {
          "output_type": "stream",
          "text": [
            "2\n",
            "3\n",
            "4\n",
            "5\n",
            "6\n",
            "7\n",
            "8\n",
            "9\n"
          ],
          "name": "stdout"
        }
      ]
    },
    {
      "metadata": {
        "id": "P3xub4vNRRhn",
        "colab_type": "code",
        "outputId": "9086e331-d154-42e1-c119-f1a2fb7d8924",
        "colab": {
          "base_uri": "https://localhost:8080/",
          "height": 68
        }
      },
      "cell_type": "code",
      "source": [
        "list_of_list=[[1,2,3],[4,5,6],[7,8,9]]\n",
        "for list1 in list_of_list:\n",
        "  print(list1)"
      ],
      "execution_count": 0,
      "outputs": [
        {
          "output_type": "stream",
          "text": [
            "[1, 2, 3]\n",
            "[4, 5, 6]\n",
            "[7, 8, 9]\n"
          ],
          "name": "stdout"
        }
      ]
    },
    {
      "metadata": {
        "id": "SORimL-eSqMP",
        "colab_type": "code",
        "outputId": "521200a1-5a1c-4176-a567-a1072b1d1669",
        "colab": {
          "base_uri": "https://localhost:8080/",
          "height": 170
        }
      },
      "cell_type": "code",
      "source": [
        "list_of_list=[[1,2,3],[4,5,6],[7,8,9]]\n",
        "for list1 in  list_of_list:\n",
        "  for x in list1:\n",
        "    print(x)\n",
        "   \n",
        " "
      ],
      "execution_count": 49,
      "outputs": [
        {
          "output_type": "stream",
          "text": [
            "1\n",
            "2\n",
            "3\n",
            "4\n",
            "5\n",
            "6\n",
            "7\n",
            "8\n",
            "9\n"
          ],
          "name": "stdout"
        }
      ]
    },
    {
      "metadata": {
        "id": "7Qh7EkU-UU6X",
        "colab_type": "code",
        "outputId": "6ba912ad-1e53-44d2-9508-a4b3073e1129",
        "colab": {
          "base_uri": "https://localhost:8080/",
          "height": 68
        }
      },
      "cell_type": "code",
      "source": [
        "i=1\n",
        "while i<3:\n",
        "  print(i ** 2)\n",
        "  i=i+1\n",
        "print(\"Bye\")"
      ],
      "execution_count": 44,
      "outputs": [
        {
          "output_type": "stream",
          "text": [
            "1\n",
            "4\n",
            "Bye\n"
          ],
          "name": "stdout"
        }
      ]
    },
    {
      "metadata": {
        "id": "m3yE3PXRVNdW",
        "colab_type": "code",
        "colab": {
          "base_uri": "https://localhost:8080/",
          "height": 153
        },
        "outputId": "92b1caa9-5e48-4ddb-8926-40c548711f61"
      },
      "cell_type": "code",
      "source": [
        "for i in range (100):\n",
        "  print (i)\n",
        "  if i>=7:\n",
        "    break"
      ],
      "execution_count": 50,
      "outputs": [
        {
          "output_type": "stream",
          "text": [
            "0\n",
            "1\n",
            "2\n",
            "3\n",
            "4\n",
            "5\n",
            "6\n",
            "7\n"
          ],
          "name": "stdout"
        }
      ]
    },
    {
      "metadata": {
        "id": "Cz9QgSVUVuZW",
        "colab_type": "code",
        "colab": {
          "base_uri": "https://localhost:8080/",
          "height": 187
        },
        "outputId": "3e398eb8-09ee-4705-f35f-9ae96a980d56"
      },
      "cell_type": "code",
      "source": [
        "for i in range (10):\n",
        "  if i>4:\n",
        "    print(\"The end\")\n",
        "    continue\n",
        "  elif i<7:\n",
        "    print (i)"
      ],
      "execution_count": 53,
      "outputs": [
        {
          "output_type": "stream",
          "text": [
            "0\n",
            "1\n",
            "2\n",
            "3\n",
            "4\n",
            "The end\n",
            "The end\n",
            "The end\n",
            "The end\n",
            "The end\n"
          ],
          "name": "stdout"
        }
      ]
    },
    {
      "metadata": {
        "id": "2EO7rP4WV7gF",
        "colab_type": "code",
        "colab": {
          "base_uri": "https://localhost:8080/",
          "height": 34
        },
        "outputId": "3d75baf4-8a61-4669-cf75-babb16d790ce"
      },
      "cell_type": "code",
      "source": [
        "res=[]\n",
        "for i in range (1,11):\n",
        "  x=27*i\n",
        "  res.append(x)\n",
        "print(res)"
      ],
      "execution_count": 56,
      "outputs": [
        {
          "output_type": "stream",
          "text": [
            "[27, 54, 81, 108, 135, 162, 189, 216, 243, 270]\n"
          ],
          "name": "stdout"
        }
      ]
    },
    {
      "metadata": {
        "id": "qPagmqn8XeBW",
        "colab_type": "code",
        "colab": {
          "base_uri": "https://localhost:8080/",
          "height": 34
        },
        "outputId": "0a63f8d1-f591-4d54-c5e9-a3ca15a88ae0"
      },
      "cell_type": "code",
      "source": [
        "[27*x for x in range (1,20) if x<=10]"
      ],
      "execution_count": 58,
      "outputs": [
        {
          "output_type": "execute_result",
          "data": {
            "text/plain": [
              "[27, 54, 81, 108, 135, 162, 189, 216, 243, 270]"
            ]
          },
          "metadata": {
            "tags": []
          },
          "execution_count": 58
        }
      ]
    },
    {
      "metadata": {
        "id": "lNLcq68oYHiG",
        "colab_type": "code",
        "colab": {
          "base_uri": "https://localhost:8080/",
          "height": 51
        },
        "outputId": "f1fc59b4-8f2a-44dd-a511-90a40bbd393a"
      },
      "cell_type": "code",
      "source": [
        "#establecer el numero que divide\n",
        "dividir=5\n",
        "#dos listas\n",
        "bajos=[]; altos=[]\n",
        "#dividir las listas\n",
        "for i in range (10):\n",
        "  if(i<dividir):\n",
        "    bajos.append(i)\n",
        "  else:\n",
        "    altos.append(i)\n",
        "    \n",
        "print(\"bajos:\",bajos)\n",
        "print(\"Altos:\",altos)"
      ],
      "execution_count": 60,
      "outputs": [
        {
          "output_type": "stream",
          "text": [
            "bajos: [0, 1, 2, 3, 4]\n",
            "Altos: [5, 6, 7, 8, 9]\n"
          ],
          "name": "stdout"
        }
      ]
    }
  ]
}